{
 "cells": [
  {
   "cell_type": "code",
   "execution_count": 6,
   "id": "684ed4bb-764b-417f-9e01-aab77c656df8",
   "metadata": {},
   "outputs": [
    {
     "name": "stdout",
     "output_type": "stream",
     "text": [
      "\n",
      "C:\\Users\\ohslo\\Desktop\\Manuscripts\\Ongoing\\Racial Capitalism and Neighborhood He\n",
      "> alth Disparities\\Data\n",
      "\n",
      "\n",
      "\n",
      "id            gini          noinsurance   lnincome      _est_case_3\n",
      "county        poverty       publicway     lnhome        _est_case_4\n",
      "cases         unemployed    owner         wbratio       _est_case_5\n",
      "death         noba          home          whratio       _est_case_6\n",
      "lat           singlemom     income        _mi_m         _est_death_1\n",
      "lon           assistance    doctor        _mi_id        _est_death_2\n",
      "area          disadvan      doctor_ratio  _mi_miss      _est_death_3\n",
      "total         density       pblack        imput_wbra~o  _est_death_4\n",
      "white         male          phispanic     int1          _est_death_5\n",
      "black         old           case_ratio    _est_case_1   _est_death_6\n",
      "hispanic      five          death_ratio   _est_case_2\n"
     ]
    }
   ],
   "source": [
    "cd \"C:\\Users\\ohslo\\Desktop\\Manuscripts\\Ongoing\\Racial Capitalism and Neighborhood Health Disparities\\Data\"\n",
    "use \"Data_CA_Covid_imputed.dta\", clear\n",
    "sort id\n",
    "ds"
   ]
  },
  {
   "cell_type": "code",
   "execution_count": 7,
   "id": "2c19300b-5347-46f5-8323-1776254dac5a",
   "metadata": {},
   "outputs": [
    {
     "name": "stdout",
     "output_type": "stream",
     "text": [
      "\n",
      "   Beware! 5 locations have no neighbors\n",
      "   You are advised to extend the distance band\n"
     ]
    }
   ],
   "source": [
    "quietly {\n",
    "    use \"Data_CA_Covid_imputed.dta\", clear\n",
    "    keep lat lon    \n",
    "    spatwmat, stand name(CA) xcoord(lat) ycoord(lon) band(0 1)\n",
    "    svmat CA\n",
    "    keep CA*\n",
    "    save \"CA\", replace\n",
    "    spmat dta CA CA*, replace\n",
    "    spmat save CA using CA.spmat, replace\n",
    "}"
   ]
  },
  {
   "cell_type": "code",
   "execution_count": 8,
   "id": "cf2da8c7-5b25-4982-9737-ac5e847312be",
   "metadata": {},
   "outputs": [
    {
     "name": "stdout",
     "output_type": "stream",
     "text": [
      "\n",
      "\n",
      "\n",
      "\n",
      "Measures of global spatial autocorrelation\n",
      "\n",
      "\n",
      "Weights matrix\n",
      "--------------------------------------------------------------\n",
      "Name: CA\n",
      "Type: Distance-based (inverse distance)\n",
      "Distance band: 0.0 < d <= 1.0\n",
      "Row-standardized: Yes\n",
      "--------------------------------------------------------------\n",
      "\n",
      "Moran's I\n",
      "--------------------------------------------------------------\n",
      "          Variables |    I      E(I)   sd(I)     z    p-value*\n",
      "--------------------+-----------------------------------------\n",
      "         case_ratio |  0.231  -0.018   0.112   2.227   0.013\n",
      "--------------------------------------------------------------\n",
      "*1-tail test\n",
      "\n",
      "\n",
      "\n",
      "\n",
      "\n",
      "Measures of global spatial autocorrelation\n",
      "\n",
      "\n",
      "Weights matrix\n",
      "--------------------------------------------------------------\n",
      "Name: CA\n",
      "Type: Distance-based (inverse distance)\n",
      "Distance band: 0.0 < d <= 1.0\n",
      "Row-standardized: Yes\n",
      "--------------------------------------------------------------\n",
      "\n",
      "Moran's I\n",
      "--------------------------------------------------------------\n",
      "          Variables |    I      E(I)   sd(I)     z    p-value*\n",
      "--------------------+-----------------------------------------\n",
      "        death_ratio |  0.416  -0.018   0.103   4.208   0.000\n",
      "--------------------------------------------------------------\n",
      "*1-tail test\n",
      "\n",
      "\n"
     ]
    }
   ],
   "source": [
    "use \"Data_CA_Covid_imputed.dta\"\n",
    "  spatgsa case_ratio, weights(CA) moran\n",
    "  spatgsa death_ratio, weights(CA) moran"
   ]
  },
  {
   "cell_type": "code",
   "execution_count": 18,
   "id": "18943ed6-0084-4da3-945b-4a8f791f7b58",
   "metadata": {},
   "outputs": [],
   "source": [
    "gen lnincome = ln(income-1)"
   ]
  },
  {
   "cell_type": "code",
   "execution_count": 22,
   "id": "be0869bc-9c16-4733-8ad6-392b64eedbac",
   "metadata": {},
   "outputs": [],
   "source": [
    "gen lnhome = ln(home-1)"
   ]
  },
  {
   "cell_type": "code",
   "execution_count": 23,
   "id": "ae7200ae-7a79-4648-a65e-82572e5b9e64",
   "metadata": {},
   "outputs": [
    {
     "name": "stdout",
     "output_type": "stream",
     "text": [
      "\n",
      "    Variable |       Obs        Mean    Std. Dev.       Min        Max\n",
      "-------------+--------------------------------------------------------\n",
      "      lnhome |        58    12.86078    .4934905    11.9421    13.9666\n"
     ]
    }
   ],
   "source": [
    "sum lnhome"
   ]
  },
  {
   "cell_type": "code",
   "execution_count": 152,
   "id": "c982ffce-23d8-4ece-87ea-c1c5075444f9",
   "metadata": {},
   "outputs": [
    {
     "name": "stdout",
     "output_type": "stream",
     "text": [
      "file Data_CA_Covid_imputed.dta saved\n"
     ]
    }
   ],
   "source": [
    "save, replace"
   ]
  },
  {
   "cell_type": "code",
   "execution_count": 9,
   "id": "1d551d7c-aef5-4b2e-be43-708cf86ae6b7",
   "metadata": {},
   "outputs": [
    {
     "name": "stdout",
     "output_type": "stream",
     "text": [
      "int1 already defined\n"
     ]
    },
    {
     "name": "stderr",
     "output_type": "stream",
     "text": [
      "r(110);\n"
     ]
    },
    {
     "name": "stdout",
     "output_type": "stream",
     "text": [
      "\n"
     ]
    }
   ],
   "source": [
    "gen int1 = wbratio * whratio"
   ]
  },
  {
   "cell_type": "code",
   "execution_count": 24,
   "id": "e42c792e-df1d-42c1-ba79-75f2e50d29e1",
   "metadata": {},
   "outputs": [],
   "source": [
    "quietly {\n",
    "     use \"Data_CA_Covid_imputed.dta\"\n",
    "  spreg ml case_ratio wbratio poverty density old doctor_ratio, elmat(CA) dlmat(CA) id(id)  \n",
    "  estimates store case_1\n",
    "  spreg ml case_ratio whratio poverty density old doctor_ratio, elmat(CA) dlmat(CA) id(id)  \n",
    "  estimates store case_2 \n",
    "  spreg ml case_ratio wbratio poverty whratio int1 density old doctor_ratio, elmat(CA) dlmat(CA) id(id)  \n",
    "  estimates store case_3 \n",
    "}    "
   ]
  },
  {
   "cell_type": "code",
   "execution_count": 35,
   "id": "9ee693a1-7efd-4969-af34-f468066721a2",
   "metadata": {},
   "outputs": [
    {
     "data": {
      "text/html": [
       "\n",
       "<table border=\"0\" width=\"*\">\n",
       "<caption>Table 2. Covid cases and Racial Income Inequality</caption>\n",
       "<tr><td colspan=4><hr></td></tr>\n",
       "<tr><td>            </td><td>         (1)   </td><td>         (2)   </td><td>         (3)   </td></tr>\n",
       "<tr><td>            </td><td>       Black   </td><td>    Hispanic   </td><td> Interaction   </td></tr>\n",
       "<tr><td>            </td><td>        b/se   </td><td>        b/se   </td><td>        b/se   </td></tr>\n",
       "<tr><td colspan=4><hr></td></tr>\n",
       "<tr><td>White-Black income ratio</td><td>       2.425*  </td><td>               </td><td>      -9.889*  </td></tr>\n",
       "<tr><td>            </td><td>     (0.943)   </td><td>               </td><td>     (4.398)   </td></tr>\n",
       "<tr><td>White-Hispanic income ratio</td><td>               </td><td>      11.460***</td><td>     -20.452   </td></tr>\n",
       "<tr><td>            </td><td>               </td><td>     (3.156)   </td><td>    (11.569)   </td></tr>\n",
       "<tr><td>Interaction </td><td>               </td><td>               </td><td>       6.930** </td></tr>\n",
       "<tr><td>            </td><td>               </td><td>               </td><td>     (2.529)   </td></tr>\n",
       "<tr><td>Poverty rate</td><td>       0.310   </td><td>       0.504   </td><td>       0.631   </td></tr>\n",
       "<tr><td>            </td><td>     (0.622)   </td><td>     (0.606)   </td><td>     (0.588)   </td></tr>\n",
       "<tr><td>Population density</td><td>      -0.004   </td><td>      -0.004   </td><td>      -0.003   </td></tr>\n",
       "<tr><td>            </td><td>     (0.002)   </td><td>     (0.002)   </td><td>     (0.002)   </td></tr>\n",
       "<tr><td>Percent old </td><td>      -3.390***</td><td>      -2.634***</td><td>      -2.739***</td></tr>\n",
       "<tr><td>            </td><td>     (0.471)   </td><td>     (0.441)   </td><td>     (0.435)   </td></tr>\n",
       "<tr><td>Healthcare professions</td><td>      -0.814   </td><td>      -1.158** </td><td>      -0.506   </td></tr>\n",
       "<tr><td>            </td><td>     (0.420)   </td><td>     (0.380)   </td><td>     (0.406)   </td></tr>\n",
       "<tr><td colspan=4><hr></td></tr>\n",
       "<tr><td>Log Likelihood</td><td>     -243.24   </td><td>     -240.12   </td><td>     -233.66   </td></tr>\n",
       "<tr><td>N           </td><td>          58   </td><td>          58   </td><td>          58   </td></tr>\n",
       "<tr><td colspan=4><hr></td></tr>\n",
       "<tr><td colspan=4>\n",
       "* p<.05, ** p<.01, *** p<.001\n",
       "</td></tr>\n",
       "</table>\n",
       "\n"
      ],
      "text/plain": [
       "This front-end or document format cannot display HTML"
      ]
     },
     "metadata": {},
     "output_type": "display_data"
    }
   ],
   "source": [
    "%html\n",
    "esttab case_1 case_2 case_3, ///\n",
    "  cells(b(star fmt(3)) se(fmt(3) par)) beta starlevels(* .05 ** .01 *** .001) legend /// \n",
    "  stats(ll N, labels(\"Log Likelihood\" \"N\") fmt(%10.2fc %10.0fc)) title(\"Table 2. Covid cases and Racial Income Inequality\") ///\n",
    "  mlabels(\"Black\" \"Hispanic\" \"Interaction\") ///\n",
    "  keep(wbratio whratio int1 poverty density old doctor_ratio rho:_cons) ///\n",
    "  order(wbratio whratio int1 poverty density old doctor_ratio rho:_cons) ///\n",
    "  varlabels(wbratio \"White-Black income ratio\" whratio \"White-Hispanic income ratio\" int1 \"Interaction\" ///\n",
    "  density \"Population density\" old \"Percent old\" doctor_ratio \"Healthcare professions\" ///\n",
    "  poverty \"Poverty rate\" rho:_cons \"Spatial lag\") eqlabels(, none) ///\n",
    "html"
   ]
  },
  {
   "cell_type": "code",
   "execution_count": 38,
   "id": "dabaf3ed-b362-43bb-b3bc-fbd832dbeb92",
   "metadata": {},
   "outputs": [
    {
     "data": {
      "text/html": [
       "\n",
       "<table border=\"0\" width=\"*\">\n",
       "<caption>Table 2. Covid cases and Racial Income Inequality</caption>\n",
       "<tr><td colspan=4><hr></td></tr>\n",
       "<tr><td>            </td><td>         (1)   </td><td>         (2)   </td><td>         (3)   </td></tr>\n",
       "<tr><td>            </td><td>       Black   </td><td>    Hispanic   </td><td> Interaction   </td></tr>\n",
       "<tr><td>            </td><td>     beta/se   </td><td>     beta/se   </td><td>     beta/se   </td></tr>\n",
       "<tr><td colspan=4><hr></td></tr>\n",
       "<tr><td>White-Black income ratio</td><td>       0.227*  </td><td>               </td><td>      -0.924*  </td></tr>\n",
       "<tr><td>            </td><td>     (0.943)   </td><td>               </td><td>     (4.398)   </td></tr>\n",
       "<tr><td>White-Hispanic income ratio</td><td>               </td><td>       0.293***</td><td>      -0.523   </td></tr>\n",
       "<tr><td>            </td><td>               </td><td>     (3.156)   </td><td>    (11.569)   </td></tr>\n",
       "<tr><td>Interaction </td><td>               </td><td>               </td><td>       1.507** </td></tr>\n",
       "<tr><td>            </td><td>               </td><td>               </td><td>     (2.529)   </td></tr>\n",
       "<tr><td>Poverty rate</td><td>       0.054   </td><td>       0.088   </td><td>       0.110   </td></tr>\n",
       "<tr><td>            </td><td>     (0.622)   </td><td>     (0.606)   </td><td>     (0.588)   </td></tr>\n",
       "<tr><td>Population density</td><td>      -0.148   </td><td>      -0.138   </td><td>      -0.129   </td></tr>\n",
       "<tr><td>            </td><td>     (0.002)   </td><td>     (0.002)   </td><td>     (0.002)   </td></tr>\n",
       "<tr><td>Percent old </td><td>      -0.751***</td><td>      -0.584***</td><td>      -0.607***</td></tr>\n",
       "<tr><td>            </td><td>     (0.471)   </td><td>     (0.441)   </td><td>     (0.435)   </td></tr>\n",
       "<tr><td>Healthcare professions</td><td>      -0.188   </td><td>      -0.268** </td><td>      -0.117   </td></tr>\n",
       "<tr><td>            </td><td>     (0.420)   </td><td>     (0.380)   </td><td>     (0.406)   </td></tr>\n",
       "<tr><td>Spatial lag </td><td>            ***</td><td>            ***</td><td>            ** </td></tr>\n",
       "<tr><td>            </td><td>     (0.160)   </td><td>     (0.131)   </td><td>     (0.171)   </td></tr>\n",
       "<tr><td colspan=4><hr></td></tr>\n",
       "<tr><td>Log Likelihood</td><td>     -243.24   </td><td>     -240.12   </td><td>     -233.66   </td></tr>\n",
       "<tr><td>N           </td><td>          58   </td><td>          58   </td><td>          58   </td></tr>\n",
       "<tr><td colspan=4><hr></td></tr>\n",
       "<tr><td colspan=4>\n",
       "* p<.05, ** p<.01, *** p<.001\n",
       "</td></tr>\n",
       "</table>\n",
       "\n"
      ],
      "text/plain": [
       "This front-end or document format cannot display HTML"
      ]
     },
     "metadata": {},
     "output_type": "display_data"
    }
   ],
   "source": [
    "%html\n",
    "esttab case_1 case_2 case_3, ///\n",
    "  cells(beta(star fmt(3)) se(fmt(3) par)) starlevels(* .05 ** .01 *** .001) legend /// \n",
    "  stats(ll N, labels(\"Log Likelihood\" \"N\") fmt(%10.2fc %10.0fc)) title(\"Table 2. Covid cases and Racial Income Inequality\") ///\n",
    "  mlabels(\"Black\" \"Hispanic\" \"Interaction\") ///\n",
    "  keep(wbratio whratio int1 poverty density old doctor_ratio rho:_cons) ///\n",
    "  order(wbratio whratio int1 poverty density old doctor_ratio rho:_cons) ///\n",
    "  varlabels(wbratio \"White-Black income ratio\" whratio \"White-Hispanic income ratio\" int1 \"Interaction\" ///\n",
    "  density \"Population density\" old \"Percent old\" doctor_ratio \"Healthcare professions\" ///\n",
    "  poverty \"Poverty rate\" rho:_cons \"Spatial lag\") eqlabels(, none) ///\n",
    "html"
   ]
  },
  {
   "cell_type": "code",
   "execution_count": 30,
   "id": "29be8d3b-5780-4516-9d60-3a1096ce8dd0",
   "metadata": {},
   "outputs": [
    {
     "name": "stdout",
     "output_type": "stream",
     "text": [
      "\n",
      "                         case_ratio\n",
      "-------------------------------------------------------------\n",
      "      Percentiles      Smallest\n",
      " 1%     8.034611       8.034611\n",
      " 5%      12.6671       12.55285\n",
      "10%      21.3268        12.6671       Obs                  58\n",
      "25%     31.07909        14.9578       Sum of Wgt.          58\n",
      "\n",
      "50%     41.89987                      Mean           47.79506\n",
      "                        Largest       Std. Dev.      25.18906\n",
      "75%     62.21626       91.26791\n",
      "90%     75.47866       105.4326       Variance       634.4886\n",
      "95%     105.4326       125.1739       Skewness       1.254123\n",
      "99%     132.6001       132.6001       Kurtosis       5.078594\n",
      "\n",
      "                           wbratio\n",
      "-------------------------------------------------------------\n",
      "      Percentiles      Smallest\n",
      " 1%     .2944942       .2944942\n",
      " 5%     .8670563       .7247237\n",
      "10%     .9516871       .8670563       Obs                  58\n",
      "25%     1.180058       .9064937       Sum of Wgt.          58\n",
      "\n",
      "50%     1.441393                      Mean           2.029462\n",
      "                        Largest       Std. Dev.      2.352814\n",
      "75%     1.775856       4.807644\n",
      "90%     3.986986       4.985634       Variance       5.535732\n",
      "95%     4.985634       5.074915       Skewness       5.355471\n",
      "99%     17.71272       17.71272       Kurtosis       35.43764\n",
      "\n",
      "                           whratio\n",
      "-------------------------------------------------------------\n",
      "      Percentiles      Smallest\n",
      " 1%     1.242822       1.242822\n",
      " 5%     1.281448       1.250196\n",
      "10%     1.482775       1.281448       Obs                  58\n",
      "25%     1.609508       1.388807       Sum of Wgt.          58\n",
      "\n",
      "50%     1.732332                      Mean           1.880128\n",
      "                        Largest       Std. Dev.      .6441618\n",
      "75%     2.027841        2.46903\n",
      "90%     2.372717       2.504781       Variance       .4149444\n",
      "95%     2.504781       2.628171       Skewness       4.906951\n",
      "99%     6.081638       6.081638       Kurtosis       32.46651\n",
      "\n",
      "                           poverty\n",
      "-------------------------------------------------------------\n",
      "      Percentiles      Smallest\n",
      " 1%     6.179755       6.179755\n",
      " 5%     7.140614       6.903508\n",
      "10%       8.1091       7.140614       Obs                  58\n",
      "25%     9.509515       7.170164       Sum of Wgt.          58\n",
      "\n",
      "50%      12.6957                      Mean           13.40674\n",
      "                        Largest       Std. Dev.      4.404194\n",
      "75%     16.92383       20.78743\n",
      "90%     19.73021       21.76136       Variance       19.39693\n",
      "95%     21.76136       22.53131       Skewness       .3914943\n",
      "99%      23.2011        23.2011       Kurtosis       2.220399\n",
      "\n",
      "                           density\n",
      "-------------------------------------------------------------\n",
      "      Percentiles      Smallest\n",
      " 1%     .6296108       .6296108\n",
      " 5%     .8579073       .7211633\n",
      "10%     1.956702       .8579073       Obs                  58\n",
      "25%     10.08664       1.310814       Sum of Wgt.          58\n",
      "\n",
      "50%     42.77209                      Mean           275.7089\n",
      "                        Largest       Std. Dev.      968.3879\n",
      "75%     142.6913       878.8608\n",
      "90%     634.2291       952.7487       Variance       937775.1\n",
      "95%     952.7487       1556.373       Skewness       6.499697\n",
      "99%     7195.752       7195.752       Kurtosis       46.61573\n",
      "\n",
      "                             old\n",
      "-------------------------------------------------------------\n",
      "      Percentiles      Smallest\n",
      " 1%     10.30115       10.30115\n",
      " 5%     11.24201       10.96567\n",
      "10%     12.23273       11.24201       Obs                  58\n",
      "25%      13.6459       11.38602       Sum of Wgt.          58\n",
      "\n",
      "50%     15.80655                      Mean           17.99301\n",
      "                        Largest       Std. Dev.      5.583914\n",
      "75%     22.08013       28.01781\n",
      "90%      27.6852       28.18292       Variance       31.18009\n",
      "95%     28.18292       28.19186       Skewness       .6761916\n",
      "99%     29.07679       29.07679       Kurtosis        2.15542\n",
      "\n",
      "                        doctor_ratio\n",
      "-------------------------------------------------------------\n",
      "      Percentiles      Smallest\n",
      " 1%     1.694217       1.694217\n",
      " 5%     6.416132       5.585899\n",
      "10%     7.514171       6.416132       Obs                  58\n",
      "25%     9.136213       6.666667       Sum of Wgt.          58\n",
      "\n",
      "50%     14.60174                      Mean           14.50635\n",
      "                        Largest       Std. Dev.      5.825286\n",
      "75%     18.76565       23.83438\n",
      "90%     22.63456       24.26184       Variance       33.93396\n",
      "95%     24.26184       26.21978       Skewness       .1114865\n",
      "99%     27.72898       27.72898       Kurtosis        2.32109\n"
     ]
    }
   ],
   "source": [
    "sum case_ratio wbratio whratio poverty density old doctor_ratio, d"
   ]
  },
  {
   "cell_type": "code",
   "execution_count": 28,
   "id": "19085ec5-aae6-485c-93b8-e4df99ba6651",
   "metadata": {},
   "outputs": [
    {
     "name": "stdout",
     "output_type": "stream",
     "text": [
      "\n",
      "             | case_r~o  wbratio  whratio  poverty  density      old doctor~o\n",
      "-------------+---------------------------------------------------------------\n",
      "  case_ratio |   1.0000 \n",
      "             |\n",
      "             |\n",
      "     wbratio |   0.0274   1.0000 \n",
      "             |   0.8381\n",
      "             |\n",
      "     whratio |   0.2835   0.1662   1.0000 \n",
      "             |   0.0311   0.2124\n",
      "             |\n",
      "     poverty |   0.2230  -0.1639  -0.2553   1.0000 \n",
      "             |   0.0924   0.2190   0.0531\n",
      "             |\n",
      "     density |  -0.1125  -0.0149   0.1512  -0.1917   1.0000 \n",
      "             |   0.4004   0.9117   0.2574   0.1495\n",
      "             |\n",
      "         old |  -0.5838   0.4094  -0.0610  -0.1542  -0.1354   1.0000 \n",
      "             |   0.0000   0.0014   0.6492   0.2479   0.3108\n",
      "             |\n",
      "doctor_ratio |  -0.2937  -0.2284   0.0884  -0.5120   0.3114  -0.0385   1.0000 \n",
      "             |   0.0252   0.0847   0.5093   0.0000   0.0173   0.7740\n",
      "             |\n"
     ]
    }
   ],
   "source": [
    "pwcorr case_ratio wbratio whratio poverty density old doctor_ratio, sig"
   ]
  },
  {
   "cell_type": "code",
   "execution_count": 29,
   "id": "eca8fddf-ae83-4461-82b2-20cc0019e35d",
   "metadata": {},
   "outputs": [
    {
     "name": "stdout",
     "output_type": "stream",
     "text": [
      "\n",
      "\n",
      "\n",
      "    Variable |       VIF       1/VIF  \n",
      "-------------+----------------------\n",
      "doctor_ratio |      1.68    0.594599\n",
      "     poverty |      1.61    0.622050\n",
      "     wbratio |      1.44    0.695349\n",
      "         old |      1.28    0.780911\n",
      "     density |      1.16    0.865023\n",
      "     whratio |      1.13    0.884147\n",
      "-------------+----------------------\n",
      "    Mean VIF |      1.38\n"
     ]
    }
   ],
   "source": [
    "quietly reg case_ratio wbratio whratio poverty density old doctor_ratio  \n",
    "  vif"
   ]
  },
  {
   "cell_type": "code",
   "execution_count": 11,
   "id": "78193f29-7d5c-427e-a1d5-dd3d813e1ccb",
   "metadata": {},
   "outputs": [
    {
     "name": "stdout",
     "output_type": "stream",
     "text": [
      "(output written to table2.rtf)\n"
     ]
    }
   ],
   "source": [
    "esttab case_1 case_2 case_3 case_4 case_5 case_6 using \"table2.rtf\", ///\n",
    "  cells(b(star fmt(3)) se(fmt(3) par)) starlevels(* .05 ** .01 *** .001) legend /// \n",
    "  stats(ll N, labels(\"Log Likelihood\" \"N\") fmt(%10.2fc %10.0fc)) title(\"Table 2. Covid cases and Racial Income Inequality\") ///\n",
    "  mlabels(\"Black_base\" \"Black_full\" \"Hispanic_base\" \"Hispanic_full\" \"Interaction\") ///\n",
    "  keep(wbratio whratio int1 _cons) order(wbratio whratio int1 _cons) ///\n",
    "  varlabels(case_ratio:_cons \"Constant\" rho:_cons \"Spatial lag\" /// \n",
    "  wbratio \"White-Black income ratio\" whratio \"White-Hispanic income ratio\" int1 \"Interaction\") ///\n",
    "  drop(lambda:_cons sigma2:_cons)  eqlabels(, none) ///\n",
    "rtf"
   ]
  },
  {
   "cell_type": "code",
   "execution_count": 31,
   "id": "75b98a2a-fb48-42ed-bb29-7b676b372ba9",
   "metadata": {},
   "outputs": [
    {
     "name": "stdout",
     "output_type": "stream",
     "text": [
      "file Data_CA_Covid_imputed.dta saved\n"
     ]
    }
   ],
   "source": [
    "save, replace"
   ]
  },
  {
   "cell_type": "code",
   "execution_count": null,
   "id": "9c72ddc7-7244-4150-aeb1-4a50a5a9b7d7",
   "metadata": {},
   "outputs": [],
   "source": []
  }
 ],
 "metadata": {
  "kernelspec": {
   "display_name": "Stata",
   "language": "stata",
   "name": "stata"
  },
  "language_info": {
   "codemirror_mode": "stata",
   "file_extension": ".do",
   "mimetype": "text/x-stata",
   "name": "stata",
   "version": "15.1"
  }
 },
 "nbformat": 4,
 "nbformat_minor": 5
}
